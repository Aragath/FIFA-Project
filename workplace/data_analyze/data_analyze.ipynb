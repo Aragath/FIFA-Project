{
 "cells": [
  {
   "cell_type": "code",
   "execution_count": 5,
   "id": "1bdc7b9a-ceaa-4eb4-bc63-321a69ea6054",
   "metadata": {
    "scrolled": true,
    "tags": []
   },
   "outputs": [
    {
     "name": "stderr",
     "output_type": "stream",
     "text": [
      "2022/12/09 22:10:04 WARNING mlflow.pyfunc: Detected one or more mismatches between the model's dependencies and the current Python environment:\n",
      " - torch-geometric (current: 2.2.0, required: torch-geometric==2.0.4)\n",
      " - torch-scatter (current: 2.1.0+pt113cpu, required: torch-scatter==2.0.9)\n",
      " - torch-sparse (current: 0.6.15+pt113cpu, required: torch-sparse==0.6.14)\n",
      " - torch (current: 1.13.0, required: torch==1.11.0)\n",
      "To fix the mismatches, call `mlflow.pyfunc.get_model_dependencies(model_uri)` to fetch the model's environment and install dependencies using the resulting environment file.\n"
     ]
    },
    {
     "ename": "NameError",
     "evalue": "name 'data' is not defined",
     "output_type": "error",
     "traceback": [
      "\u001b[1;31m---------------------------------------------------------------------------\u001b[0m",
      "\u001b[1;31mNameError\u001b[0m                                 Traceback (most recent call last)",
      "Input \u001b[1;32mIn [6]\u001b[0m, in \u001b[0;36m<cell line: 9>\u001b[1;34m()\u001b[0m\n\u001b[0;32m      7\u001b[0m \u001b[38;5;66;03m# Predict on a Pandas DataFrame.\u001b[39;00m\n\u001b[0;32m      8\u001b[0m \u001b[38;5;28;01mimport\u001b[39;00m \u001b[38;5;21;01mpandas\u001b[39;00m \u001b[38;5;28;01mas\u001b[39;00m \u001b[38;5;21;01mpd\u001b[39;00m\n\u001b[1;32m----> 9\u001b[0m loaded_model\u001b[38;5;241m.\u001b[39mpredict(pd\u001b[38;5;241m.\u001b[39mDataFrame(\u001b[43mdata\u001b[49m))\n",
      "\u001b[1;31mNameError\u001b[0m: name 'data' is not defined"
     ]
    }
   ],
   "source": [
    "import mlflow\n",
    "logged_model = 'runs:/a2ceb29ed2b841a199135321a63b4464/model'\n",
    "\n",
    "# Load model as a PyFuncModel.\n",
    "loaded_model = mlflow.pyfunc.load_model(logged_model)\n",
    "\n",
    "# Predict on a Pandas DataFrame.\n",
    "import pandas as pd\n",
    "loaded_model.predict(pd.DataFrame(data))"
   ]
  },
  {
   "cell_type": "code",
   "execution_count": null,
   "id": "3283454a-db1c-4480-98eb-657629b1272d",
   "metadata": {},
   "outputs": [],
   "source": []
  },
  {
   "cell_type": "code",
   "execution_count": null,
   "id": "07f107a8-c5e7-4e6d-971b-51a5a2b30d98",
   "metadata": {},
   "outputs": [],
   "source": [
    "import torch, torch_geometric\n",
    "import pandas as pd\n",
    "\n",
    "unexpected_data = []\n",
    "unexpected_tie = 0\n",
    "unexpected_win = 0\n",
    "\n",
    "unlikely_data = []\n",
    "unlikely_tie = 0\n",
    "unlikely_win = 0\n",
    "for _ in range(4000):\n",
    "    vis = torch.load(f'data/processed_unnormalized/data_{_}.pt')\n",
    "    print(\"processing: \", _)\n",
    "    a = vis.x[:11]\n",
    "    b = vis.x[11:]\n",
    "    A = a.mean(axis=0)\n",
    "    B = b.mean(axis=0)\n",
    "    count = 0\n",
    "    for p, q in zip(A, B):\n",
    "        if(p>q):\n",
    "            count+=1\n",
    "\n",
    "    # 客隊為q, 0\n",
    "    if(count >= 30 or count <= 8): # 主隊贏客隊超過30個能力 or 只贏小於8個(差距80%)\n",
    "        if(vis.y == 1): # 雙方平手\n",
    "            unexpected_tie += 1\n",
    "            unexpected_data.append([A, B, count, vis.y])\n",
    "        if(count >= 30 and vis.y == 0): # 主隊贏客隊超過30個能力但客隊獲勝\n",
    "            unexpected_win += 1\n",
    "            unexpected_data.append([A, B, count, vis.y])\n",
    "        if(count <= 8 and vis.y == 2): # 主隊只贏小於8個能力但獲勝\n",
    "            unexpected_win += 1\n",
    "            unexpected_data.append([A, B, count, vis.y])\n",
    "        \n",
    "    if(count >= 25 or count <= 13): # 主隊贏客隊超過25個能力 or 只贏小於13個(贏66%的項目)\n",
    "        if(vis.y == 1): # 雙方平手\n",
    "            unlikely_tie += 1\n",
    "            unlikely_data.append([A, B, count, vis.y])\n",
    "        if(count >= 25 and vis.y == 0): # 主隊贏客隊超過25個能力但客隊獲勝\n",
    "            unlikely_win += 1\n",
    "            unlikely_data.append([A, B, count, vis.y])\n",
    "        if(count <= 13 and vis.y == 2): # 主隊只贏小於13個能力但獲勝\n",
    "            unlikely_win += 1\n",
    "            unlikely_data.append([A, B, count, vis.y])\n",
    "        \n",
    "unexpected_data = pd.DataFrame(unexpected_data, columns = column_names)\n",
    "unexpected_data.to_csv('unexpected_data.csv')\n",
    "unlikely_data = pd.DataFrame(unlikely_data, columns = column_names)\n",
    "unlikely_data.to_csv('unlikely_data.csv')\n",
    "\n",
    "print(\"unexpected_tie: \", unexpected_tie)\n",
    "print(\"unexpected_win: \", unexpected_win)\n",
    "print(\"unlikely_tie: \", unlikely_tie)\n",
    "print(\"unlikely_win: \", unlikely_win)"
   ]
  },
  {
   "cell_type": "code",
   "execution_count": null,
   "id": "6cf2bc29-d204-4b39-b608-d5de06978a4c",
   "metadata": {},
   "outputs": [],
   "source": []
  }
 ],
 "metadata": {
  "kernelspec": {
   "display_name": "Python 3 (ipykernel)",
   "language": "python",
   "name": "python3"
  },
  "language_info": {
   "codemirror_mode": {
    "name": "ipython",
    "version": 3
   },
   "file_extension": ".py",
   "mimetype": "text/x-python",
   "name": "python",
   "nbconvert_exporter": "python",
   "pygments_lexer": "ipython3",
   "version": "3.8.5"
  }
 },
 "nbformat": 4,
 "nbformat_minor": 5
}
